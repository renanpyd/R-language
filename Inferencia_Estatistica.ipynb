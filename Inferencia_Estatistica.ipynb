{
  "nbformat": 4,
  "nbformat_minor": 0,
  "metadata": {
    "colab": {
      "name": "teste_ATIVIDADE_A3_Inferencia_Estatistica.ipynb",
      "provenance": [],
      "collapsed_sections": [],
      "include_colab_link": true
    },
    "kernelspec": {
      "display_name": "R",
      "language": "R",
      "name": "ir"
    },
    "language_info": {
      "codemirror_mode": "r",
      "file_extension": ".r",
      "mimetype": "text/x-r-source",
      "name": "R",
      "pygments_lexer": "r",
      "version": "3.6.1"
    }
  },
  "cells": [
    {
      "cell_type": "markdown",
      "metadata": {
        "id": "view-in-github",
        "colab_type": "text"
      },
      "source": [
        "<a href=\"https://colab.research.google.com/github/renanpyd/R-language/blob/main/Inferencia_Estatistica.ipynb\" target=\"_parent\"><img src=\"https://colab.research.google.com/assets/colab-badge.svg\" alt=\"Open In Colab\"/></a>"
      ]
    },
    {
      "cell_type": "markdown",
      "metadata": {
        "id": "m35nlbGonNwb"
      },
      "source": [
        "## RESPOSTA:"
      ]
    },
    {
      "cell_type": "markdown",
      "metadata": {
        "id": "4sI3i7cHksbs"
      },
      "source": [
        "Temos aqui um caso de análise de variância (ANOVA de um fator com quatro níveis).  \n",
        "Esta análise nos proporciona determinar se as médias de três ou mais grupos são diferentes. "
      ]
    },
    {
      "cell_type": "code",
      "metadata": {
        "id": "Y3RYGuBykFwi",
        "outputId": "b5c2fc19-b8b3-4f20-9714-f9ce64bd8de5",
        "colab": {
          "base_uri": "https://localhost:8080/",
          "height": 976
        }
      },
      "source": [
        "# cria data frame a partir da Tabela 1 - dados de vendas conforme marcas de produtos.\n",
        "marcas_1 <- c(rep(\"A\", 7), rep(\"B\", 7), rep(\"C\", 7), rep(\"D\", 7))\n",
        "medias_venda_1 <- c(rep(20, 7), rep(12, 7), rep(17, 7), rep(15, 7))\n",
        "\n",
        "df_1 <- data.frame(marcas_1, medias_venda_1)\n",
        "df_1"
      ],
      "execution_count": 1,
      "outputs": [
        {
          "output_type": "display_data",
          "data": {
            "text/html": [
              "<table class=\"dataframe\">\n",
              "<caption>A data.frame: 28 × 2</caption>\n",
              "<thead>\n",
              "\t<tr><th scope=col>marcas_1</th><th scope=col>medias_venda_1</th></tr>\n",
              "\t<tr><th scope=col>&lt;chr&gt;</th><th scope=col>&lt;dbl&gt;</th></tr>\n",
              "</thead>\n",
              "<tbody>\n",
              "\t<tr><td>A</td><td>20</td></tr>\n",
              "\t<tr><td>A</td><td>20</td></tr>\n",
              "\t<tr><td>A</td><td>20</td></tr>\n",
              "\t<tr><td>A</td><td>20</td></tr>\n",
              "\t<tr><td>A</td><td>20</td></tr>\n",
              "\t<tr><td>A</td><td>20</td></tr>\n",
              "\t<tr><td>A</td><td>20</td></tr>\n",
              "\t<tr><td>B</td><td>12</td></tr>\n",
              "\t<tr><td>B</td><td>12</td></tr>\n",
              "\t<tr><td>B</td><td>12</td></tr>\n",
              "\t<tr><td>B</td><td>12</td></tr>\n",
              "\t<tr><td>B</td><td>12</td></tr>\n",
              "\t<tr><td>B</td><td>12</td></tr>\n",
              "\t<tr><td>B</td><td>12</td></tr>\n",
              "\t<tr><td>C</td><td>17</td></tr>\n",
              "\t<tr><td>C</td><td>17</td></tr>\n",
              "\t<tr><td>C</td><td>17</td></tr>\n",
              "\t<tr><td>C</td><td>17</td></tr>\n",
              "\t<tr><td>C</td><td>17</td></tr>\n",
              "\t<tr><td>C</td><td>17</td></tr>\n",
              "\t<tr><td>C</td><td>17</td></tr>\n",
              "\t<tr><td>D</td><td>15</td></tr>\n",
              "\t<tr><td>D</td><td>15</td></tr>\n",
              "\t<tr><td>D</td><td>15</td></tr>\n",
              "\t<tr><td>D</td><td>15</td></tr>\n",
              "\t<tr><td>D</td><td>15</td></tr>\n",
              "\t<tr><td>D</td><td>15</td></tr>\n",
              "\t<tr><td>D</td><td>15</td></tr>\n",
              "</tbody>\n",
              "</table>\n"
            ],
            "text/markdown": "\nA data.frame: 28 × 2\n\n| marcas_1 &lt;chr&gt; | medias_venda_1 &lt;dbl&gt; |\n|---|---|\n| A | 20 |\n| A | 20 |\n| A | 20 |\n| A | 20 |\n| A | 20 |\n| A | 20 |\n| A | 20 |\n| B | 12 |\n| B | 12 |\n| B | 12 |\n| B | 12 |\n| B | 12 |\n| B | 12 |\n| B | 12 |\n| C | 17 |\n| C | 17 |\n| C | 17 |\n| C | 17 |\n| C | 17 |\n| C | 17 |\n| C | 17 |\n| D | 15 |\n| D | 15 |\n| D | 15 |\n| D | 15 |\n| D | 15 |\n| D | 15 |\n| D | 15 |\n\n",
            "text/latex": "A data.frame: 28 × 2\n\\begin{tabular}{ll}\n marcas\\_1 & medias\\_venda\\_1\\\\\n <chr> & <dbl>\\\\\n\\hline\n\t A & 20\\\\\n\t A & 20\\\\\n\t A & 20\\\\\n\t A & 20\\\\\n\t A & 20\\\\\n\t A & 20\\\\\n\t A & 20\\\\\n\t B & 12\\\\\n\t B & 12\\\\\n\t B & 12\\\\\n\t B & 12\\\\\n\t B & 12\\\\\n\t B & 12\\\\\n\t B & 12\\\\\n\t C & 17\\\\\n\t C & 17\\\\\n\t C & 17\\\\\n\t C & 17\\\\\n\t C & 17\\\\\n\t C & 17\\\\\n\t C & 17\\\\\n\t D & 15\\\\\n\t D & 15\\\\\n\t D & 15\\\\\n\t D & 15\\\\\n\t D & 15\\\\\n\t D & 15\\\\\n\t D & 15\\\\\n\\end{tabular}\n",
            "text/plain": [
              "   marcas_1 medias_venda_1\n",
              "1  A        20            \n",
              "2  A        20            \n",
              "3  A        20            \n",
              "4  A        20            \n",
              "5  A        20            \n",
              "6  A        20            \n",
              "7  A        20            \n",
              "8  B        12            \n",
              "9  B        12            \n",
              "10 B        12            \n",
              "11 B        12            \n",
              "12 B        12            \n",
              "13 B        12            \n",
              "14 B        12            \n",
              "15 C        17            \n",
              "16 C        17            \n",
              "17 C        17            \n",
              "18 C        17            \n",
              "19 C        17            \n",
              "20 C        17            \n",
              "21 C        17            \n",
              "22 D        15            \n",
              "23 D        15            \n",
              "24 D        15            \n",
              "25 D        15            \n",
              "26 D        15            \n",
              "27 D        15            \n",
              "28 D        15            "
            ]
          },
          "metadata": {}
        }
      ]
    },
    {
      "cell_type": "markdown",
      "metadata": {
        "id": "2ETjPkaMo2Vh"
      },
      "source": [
        "#### **Teste de Hipótese, unilateral à direita.**\n",
        "\n",
        "**H0:**  $ \\vec{A} = \\vec{B} = \\vec{C} = \\vec{D} $  \n",
        "**H1:**  $ \\text{Pelo menos duas das marcas são mais vendidas. (Alegação)} $  \n"
      ]
    },
    {
      "cell_type": "markdown",
      "metadata": {
        "id": "WzoJiw1UqHkp"
      },
      "source": [
        "#### a) **Resultados, descrevendo e explicando artifícios estatísticos para este teste de hipótese, em consonância com as suposições estatísticas.**"
      ]
    },
    {
      "cell_type": "code",
      "metadata": {
        "id": "cFcLffYUnwQl",
        "outputId": "2aa35503-9d99-4e9e-8283-fa1a3aa95fb5",
        "colab": {
          "base_uri": "https://localhost:8080/"
        }
      },
      "source": [
        "x_barra_1 <- tapply(medias_venda_1, marcas_1, mean)\n",
        "print(x_barra_1)"
      ],
      "execution_count": 2,
      "outputs": [
        {
          "output_type": "stream",
          "name": "stdout",
          "text": [
            " A  B  C  D \n",
            "20 12 17 15 \n"
          ]
        }
      ]
    },
    {
      "cell_type": "code",
      "metadata": {
        "id": "qvYs4wAfrq2j",
        "outputId": "64a6f34f-c309-47ee-df4e-9ab3ca59fc9c",
        "colab": {
          "base_uri": "https://localhost:8080/"
        }
      },
      "source": [
        "media_a1 <- mean(medias_venda_1)\n",
        "print(media_a1)"
      ],
      "execution_count": 3,
      "outputs": [
        {
          "output_type": "stream",
          "name": "stdout",
          "text": [
            "[1] 16\n"
          ]
        }
      ]
    },
    {
      "cell_type": "markdown",
      "metadata": {
        "id": "xv9E-qMsr_F2"
      },
      "source": [
        "O dataset possui 28 observações em 4 grupos.  Os tratamentos possuem 7, 7, 7 e 7 observações respectivamente, logo,  precisa-se do xbarra_1 repetido nessas freqüências.\n"
      ]
    },
    {
      "cell_type": "code",
      "metadata": {
        "id": "p5BmveQCquKE",
        "outputId": "b838eabe-0de7-4140-87c5-c8ea6a76a76c",
        "colab": {
          "base_uri": "https://localhost:8080/"
        }
      },
      "source": [
        "n_1 <- sum(rep(7, 4))\n",
        "print(n_1)\n",
        "\n",
        "soma_f_x_1 <- sum((7*12),(7*17),(7*15),(7*20))\n",
        "print(soma_f_x_1)\n",
        "\n",
        "media_a2 <- soma_f_x_1/n_1\n",
        "print(media_a2)"
      ],
      "execution_count": 4,
      "outputs": [
        {
          "output_type": "stream",
          "name": "stdout",
          "text": [
            "[1] 28\n",
            "[1] 448\n",
            "[1] 16\n"
          ]
        }
      ]
    },
    {
      "cell_type": "markdown",
      "metadata": {
        "id": "X0SMCUxEtFnC"
      },
      "source": [
        "Soma dentro dos grupos/soma de quadrados de dentro/resíduo."
      ]
    },
    {
      "cell_type": "code",
      "metadata": {
        "id": "7W-Rl50UtKJ2",
        "outputId": "8a7cfe0e-e4e3-4242-ddcc-fe932c7a4681",
        "colab": {
          "base_uri": "https://localhost:8080/"
        }
      },
      "source": [
        "somasw_1 <- (((7-1)*2^2)+((7-1)*8^2)+((7-1)*5^2)+((7-1)*5^2))\n",
        "print(somasw_1)"
      ],
      "execution_count": 5,
      "outputs": [
        {
          "output_type": "stream",
          "name": "stdout",
          "text": [
            "[1] 708\n"
          ]
        }
      ]
    },
    {
      "cell_type": "markdown",
      "metadata": {
        "id": "YgC5G5_ctXVX"
      },
      "source": [
        "Soma de quadrados entre tratamento/amostra."
      ]
    },
    {
      "cell_type": "code",
      "metadata": {
        "id": "PBRTIRh-tZ4Z",
        "outputId": "c3710293-8949-40c1-8610-a4c2d290b7e2",
        "colab": {
          "base_uri": "https://localhost:8080/"
        }
      },
      "source": [
        "somasb_1 <- (7*(12-media_a2)^2)+(7*(15-media_a2)^2)+(7*(17-media_a2)^2)+(7*(20-media_a2)^2)\n",
        "print(somasb_1)"
      ],
      "execution_count": 6,
      "outputs": [
        {
          "output_type": "stream",
          "name": "stdout",
          "text": [
            "[1] 238\n"
          ]
        }
      ]
    },
    {
      "cell_type": "markdown",
      "metadata": {
        "id": "aCpxsRrxtlSP"
      },
      "source": [
        "Soma do quadrado total é igual somasw_1 + somasb_1."
      ]
    },
    {
      "cell_type": "code",
      "metadata": {
        "id": "eQQhxItStqPn",
        "outputId": "0c06024f-e629-4b91-cbdc-866a90829893",
        "colab": {
          "base_uri": "https://localhost:8080/"
        }
      },
      "source": [
        "tsomas_1 <- (somasw_1+somasb_1)\n",
        "print(tsomas_1)"
      ],
      "execution_count": 7,
      "outputs": [
        {
          "output_type": "stream",
          "name": "stdout",
          "text": [
            "[1] 946\n"
          ]
        }
      ]
    },
    {
      "cell_type": "markdown",
      "metadata": {
        "id": "fYPc9rtTui6W"
      },
      "source": [
        "k_1 é igual número de grupos/amostras"
      ]
    },
    {
      "cell_type": "code",
      "metadata": {
        "id": "PYMfclLIumb_"
      },
      "source": [
        "k_1 <- 4"
      ],
      "execution_count": 8,
      "outputs": []
    },
    {
      "cell_type": "markdown",
      "metadata": {
        "id": "j-__0jLst0bf"
      },
      "source": [
        "Quadrado médio(msomab_1) entre tratamentos/amostras = somasb_1/(k_1-1), sendo n igual numero de grupo, neste caso k_1 é igual a 4."
      ]
    },
    {
      "cell_type": "code",
      "metadata": {
        "id": "ksvVq5VPuRTS",
        "outputId": "90603bc6-77bb-4818-c6e8-ed02aed3d53d",
        "colab": {
          "base_uri": "https://localhost:8080/"
        }
      },
      "source": [
        "msomab_1 <- somasb_1/(k_1 - 1)\n",
        "print(msomab_1)"
      ],
      "execution_count": 9,
      "outputs": [
        {
          "output_type": "stream",
          "name": "stdout",
          "text": [
            "[1] 79.33333\n"
          ]
        }
      ]
    },
    {
      "cell_type": "markdown",
      "metadata": {
        "id": "cWs3_Cq6ux3u"
      },
      "source": [
        "Quadrado médio(msomaw_1) dentro de cada tratamento/resíduo/amostra = somasw_1/(n_1-k_1), sendo n_1 igual tamanho da amostra e k_1 igual número de grupos/amostras.\n"
      ]
    },
    {
      "cell_type": "code",
      "metadata": {
        "id": "aloW2pzYu8RY",
        "outputId": "ea437cab-3c6b-4bb7-e6c5-e3c64a8bb6ff",
        "colab": {
          "base_uri": "https://localhost:8080/"
        }
      },
      "source": [
        "msomaw_1 <- somasw_1/(28 - 4)\n",
        "print(msomaw_1)"
      ],
      "execution_count": 10,
      "outputs": [
        {
          "output_type": "stream",
          "name": "stdout",
          "text": [
            "[1] 29.5\n"
          ]
        }
      ]
    },
    {
      "cell_type": "markdown",
      "metadata": {
        "id": "xW7wr_-2vG_m"
      },
      "source": [
        "Quadrado médio Total igual tsomas_1/(n_1 - 1), sendo n_1 igual tamanho da amostra."
      ]
    },
    {
      "cell_type": "code",
      "metadata": {
        "id": "gUX3UNgqvONm",
        "outputId": "65e15c2d-72a8-4825-c2c7-422a710138c4",
        "colab": {
          "base_uri": "https://localhost:8080/"
        }
      },
      "source": [
        "tsomaq_1 <- tsomas_1/(28 - 1)\n",
        "print(tsomaq_1)"
      ],
      "execution_count": 11,
      "outputs": [
        {
          "output_type": "stream",
          "name": "stdout",
          "text": [
            "[1] 35.03704\n"
          ]
        }
      ]
    },
    {
      "cell_type": "markdown",
      "metadata": {
        "id": "9Esgcmj7vfhG"
      },
      "source": [
        "F observado é igual (msomab_1)/(msomaw_1)\n"
      ]
    },
    {
      "cell_type": "code",
      "metadata": {
        "id": "lkVnuD7HvlGX",
        "outputId": "6f2a2ba5-a5e3-434e-8ef7-a1e1cce2f862",
        "colab": {
          "base_uri": "https://localhost:8080/"
        }
      },
      "source": [
        "f_observado_1 <- (msomab_1)/(msomaw_1)\n",
        "print(f_observado_1)"
      ],
      "execution_count": 12,
      "outputs": [
        {
          "output_type": "stream",
          "name": "stdout",
          "text": [
            "[1] 2.689266\n"
          ]
        }
      ]
    },
    {
      "cell_type": "markdown",
      "metadata": {
        "id": "fI21GjA9vwrG"
      },
      "source": [
        "**Tabela 1 - Análise de variância para marcas mais vendidas.**  \n",
        "\n",
        "|Fonte| Soma dos quadrados |Graus de liberdade|Quadrado médio|Estatística F calculado|\n",
        "|---:|:-------------|:-----------|:------|:------|\n",
        "|Entre amostras|238|4-1 = 3|79,3|2,689266|\n",
        "|Dentro das amostras|708|28-4 = 24|29,5| |\n",
        "|Total|946|28-1 = 27| | |\n"
      ]
    },
    {
      "cell_type": "markdown",
      "metadata": {
        "id": "S-WF7NBvyQgR"
      },
      "source": [
        "### **Análise I**\n",
        "\n",
        "**Do valor F CRITICO:** O valor de F crítico ou seja do F consultado na tabela F de Fisher para F(0,05;GL do numerador da razão  do F=3; GL do denominador da razão do F=24) => F(0,05;3;24) = 3,01, o valor maior  do que da estatística F calculada, 2,69.  \n",
        "\n",
        "\n",
        "### **Conclusão I**\n",
        "Em nível de significância de 0,05, a hipótese nula não deve ser rejeitada. Ou seja, não há evidências suficiente para concluirmos que existem duas médias de vendas maiores. \n"
      ]
    },
    {
      "cell_type": "markdown",
      "metadata": {
        "id": "egKVjKzindx1"
      },
      "source": [
        "### **Análise II** \n",
        "Pelo cálculo o P-Valor"
      ]
    },
    {
      "cell_type": "code",
      "metadata": {
        "id": "kiMKHFeruhPl",
        "outputId": "a19cb440-98c6-4881-8295-16e26d1f8148",
        "colab": {
          "base_uri": "https://localhost:8080/"
        }
      },
      "source": [
        "p_valor_1 <- pf((msomab_1)/(msomaw_1), 3, 24, lower.tail=FALSE)\n",
        "print(p_valor_1)"
      ],
      "execution_count": 13,
      "outputs": [
        {
          "output_type": "stream",
          "name": "stdout",
          "text": [
            "[1] 0.06895799\n"
          ]
        }
      ]
    },
    {
      "cell_type": "markdown",
      "metadata": {
        "id": "3uZnAAifc07W"
      },
      "source": [
        "O P-Valor do teste é maior do que significância de 5%.\n",
        "\n",
        "### **Conclusão II**  \n",
        "Em nível de significância de 0,05, reitera-se, que a hipótese nula não deve ser rejeitada.\n",
        "**Nota:** Se admitisse analisar em nível de significância de 10%,  há evidências suficiente para concluirmos que existem pelo menos duas médias de vendas maiores.  \n",
        "Decisão pela análise do F crítico: uma vez que a estatística na tabela F de Fisher para F(0,05;GL do numerador da razão do F=3; GL do denominador da razão do F=25) => F(0,1;3;24)=2,33, valor menor do que o da estatística F calculada, 2,69.  \n",
        "Decisão pelo cálculo do P-Valor: Sendo que p_valor do teste ser mesnor do que significância de 10%.  \n",
        "\n",
        "## **Conclusão Intermediaria** \n",
        "Nenhuma das marcas seriam escolhidas pelo critério de seleção pelas unidades mais vendidas em um mês,em nível de confiança de 5%.  \n",
        "Deste forma, observa-se um empate, como tal vou testar se se pode escolher a marca com menor custo de compra."
      ]
    },
    {
      "cell_type": "markdown",
      "metadata": {
        "id": "gm8gct7-fOx7"
      },
      "source": [
        "# **Para o caso de *marca* com menor *custo de compra***\n",
        "b) **Resultados, descrevendo e explicando artifícios estatísticos para o teste de hipótese, seguindo as suposições estatísticas.**"
      ]
    },
    {
      "cell_type": "code",
      "metadata": {
        "id": "kgMlyMZveWU7",
        "outputId": "ae2cf374-6f43-464c-96ae-d30f3392a5dd",
        "colab": {
          "base_uri": "https://localhost:8080/",
          "height": 976
        }
      },
      "source": [
        "# cria data frame apartir da Tabela 1 - dados de vendas conforme marcas de produtos.\n",
        "marcas_2 <- c(rep(\"A\", 7), rep(\"B\", 7), rep(\"C\", 7), rep(\"D\", 7))\n",
        "custo_compra <- c(rep(10.0, 7), rep(14.0, 7), rep(15.0, 7), rep(12.0, 7))\n",
        "\n",
        "df_2 <- data.frame(marcas_2, custo_compra)\n",
        "df_2"
      ],
      "execution_count": 14,
      "outputs": [
        {
          "output_type": "display_data",
          "data": {
            "text/html": [
              "<table class=\"dataframe\">\n",
              "<caption>A data.frame: 28 × 2</caption>\n",
              "<thead>\n",
              "\t<tr><th scope=col>marcas_2</th><th scope=col>custo_compra</th></tr>\n",
              "\t<tr><th scope=col>&lt;chr&gt;</th><th scope=col>&lt;dbl&gt;</th></tr>\n",
              "</thead>\n",
              "<tbody>\n",
              "\t<tr><td>A</td><td>10</td></tr>\n",
              "\t<tr><td>A</td><td>10</td></tr>\n",
              "\t<tr><td>A</td><td>10</td></tr>\n",
              "\t<tr><td>A</td><td>10</td></tr>\n",
              "\t<tr><td>A</td><td>10</td></tr>\n",
              "\t<tr><td>A</td><td>10</td></tr>\n",
              "\t<tr><td>A</td><td>10</td></tr>\n",
              "\t<tr><td>B</td><td>14</td></tr>\n",
              "\t<tr><td>B</td><td>14</td></tr>\n",
              "\t<tr><td>B</td><td>14</td></tr>\n",
              "\t<tr><td>B</td><td>14</td></tr>\n",
              "\t<tr><td>B</td><td>14</td></tr>\n",
              "\t<tr><td>B</td><td>14</td></tr>\n",
              "\t<tr><td>B</td><td>14</td></tr>\n",
              "\t<tr><td>C</td><td>15</td></tr>\n",
              "\t<tr><td>C</td><td>15</td></tr>\n",
              "\t<tr><td>C</td><td>15</td></tr>\n",
              "\t<tr><td>C</td><td>15</td></tr>\n",
              "\t<tr><td>C</td><td>15</td></tr>\n",
              "\t<tr><td>C</td><td>15</td></tr>\n",
              "\t<tr><td>C</td><td>15</td></tr>\n",
              "\t<tr><td>D</td><td>12</td></tr>\n",
              "\t<tr><td>D</td><td>12</td></tr>\n",
              "\t<tr><td>D</td><td>12</td></tr>\n",
              "\t<tr><td>D</td><td>12</td></tr>\n",
              "\t<tr><td>D</td><td>12</td></tr>\n",
              "\t<tr><td>D</td><td>12</td></tr>\n",
              "\t<tr><td>D</td><td>12</td></tr>\n",
              "</tbody>\n",
              "</table>\n"
            ],
            "text/markdown": "\nA data.frame: 28 × 2\n\n| marcas_2 &lt;chr&gt; | custo_compra &lt;dbl&gt; |\n|---|---|\n| A | 10 |\n| A | 10 |\n| A | 10 |\n| A | 10 |\n| A | 10 |\n| A | 10 |\n| A | 10 |\n| B | 14 |\n| B | 14 |\n| B | 14 |\n| B | 14 |\n| B | 14 |\n| B | 14 |\n| B | 14 |\n| C | 15 |\n| C | 15 |\n| C | 15 |\n| C | 15 |\n| C | 15 |\n| C | 15 |\n| C | 15 |\n| D | 12 |\n| D | 12 |\n| D | 12 |\n| D | 12 |\n| D | 12 |\n| D | 12 |\n| D | 12 |\n\n",
            "text/latex": "A data.frame: 28 × 2\n\\begin{tabular}{ll}\n marcas\\_2 & custo\\_compra\\\\\n <chr> & <dbl>\\\\\n\\hline\n\t A & 10\\\\\n\t A & 10\\\\\n\t A & 10\\\\\n\t A & 10\\\\\n\t A & 10\\\\\n\t A & 10\\\\\n\t A & 10\\\\\n\t B & 14\\\\\n\t B & 14\\\\\n\t B & 14\\\\\n\t B & 14\\\\\n\t B & 14\\\\\n\t B & 14\\\\\n\t B & 14\\\\\n\t C & 15\\\\\n\t C & 15\\\\\n\t C & 15\\\\\n\t C & 15\\\\\n\t C & 15\\\\\n\t C & 15\\\\\n\t C & 15\\\\\n\t D & 12\\\\\n\t D & 12\\\\\n\t D & 12\\\\\n\t D & 12\\\\\n\t D & 12\\\\\n\t D & 12\\\\\n\t D & 12\\\\\n\\end{tabular}\n",
            "text/plain": [
              "   marcas_2 custo_compra\n",
              "1  A        10          \n",
              "2  A        10          \n",
              "3  A        10          \n",
              "4  A        10          \n",
              "5  A        10          \n",
              "6  A        10          \n",
              "7  A        10          \n",
              "8  B        14          \n",
              "9  B        14          \n",
              "10 B        14          \n",
              "11 B        14          \n",
              "12 B        14          \n",
              "13 B        14          \n",
              "14 B        14          \n",
              "15 C        15          \n",
              "16 C        15          \n",
              "17 C        15          \n",
              "18 C        15          \n",
              "19 C        15          \n",
              "20 C        15          \n",
              "21 C        15          \n",
              "22 D        12          \n",
              "23 D        12          \n",
              "24 D        12          \n",
              "25 D        12          \n",
              "26 D        12          \n",
              "27 D        12          \n",
              "28 D        12          "
            ]
          },
          "metadata": {}
        }
      ]
    },
    {
      "cell_type": "markdown",
      "metadata": {
        "id": "7N8fyiKth5hX"
      },
      "source": [
        "#### **Teste de Hipótese, unilateral a esquerda.**\n",
        "**H0:** $ \\vec{A} = \\vec{B} = \\vec{C} = \\vec{D} $  \n",
        "**HA:** $ \\text{Há pelo menos uma a marca com menor custo de compra. (Alegação) } $\n"
      ]
    },
    {
      "cell_type": "code",
      "metadata": {
        "id": "dHlB8fLxcX7j",
        "outputId": "0e709082-c414-4cf9-b517-d4a15d0ac565",
        "colab": {
          "base_uri": "https://localhost:8080/"
        }
      },
      "source": [
        "xbarra_2 <- tapply(custo_compra, marcas_2, mean)\n",
        "print(xbarra_2)"
      ],
      "execution_count": 15,
      "outputs": [
        {
          "output_type": "stream",
          "name": "stdout",
          "text": [
            " A  B  C  D \n",
            "10 14 15 12 \n"
          ]
        }
      ]
    },
    {
      "cell_type": "code",
      "metadata": {
        "id": "p3B62NY2iiTZ",
        "outputId": "b333d9b0-5f76-493c-af4c-1c39465276ee",
        "colab": {
          "base_uri": "https://localhost:8080/"
        }
      },
      "source": [
        "media_a2 <- mean(custo_compra)\n",
        "print(media_a2)"
      ],
      "execution_count": 16,
      "outputs": [
        {
          "output_type": "stream",
          "name": "stdout",
          "text": [
            "[1] 12.75\n"
          ]
        }
      ]
    },
    {
      "cell_type": "markdown",
      "metadata": {
        "id": "jzgssWPristE"
      },
      "source": [
        "O dataset possui 28 observações em 4 grupos.\n",
        "Os grupos possuem 7, 7, 7 e 7 observações respectivamente, logo, precisa-se do xbarra_2 repetido nessas freqüências."
      ]
    },
    {
      "cell_type": "code",
      "metadata": {
        "id": "zRQJ25LOirl-",
        "outputId": "a8d94953-2517-48ff-993c-eb61fc58d32e",
        "colab": {
          "base_uri": "https://localhost:8080/"
        }
      },
      "source": [
        "n_2 <- sum(rep(7, 4))\n",
        "print(n_2)\n",
        "\n",
        "soma_f_x_2 <- sum((7*10),(7*14),(7*15),(7*12))\n",
        "print(soma_f_x_2)\n",
        "\n",
        "media_b2 <- soma_f_x_2 / n_2\n",
        "print(media_b2)"
      ],
      "execution_count": 17,
      "outputs": [
        {
          "output_type": "stream",
          "name": "stdout",
          "text": [
            "[1] 28\n",
            "[1] 357\n",
            "[1] 12.75\n"
          ]
        }
      ]
    },
    {
      "cell_type": "markdown",
      "metadata": {
        "id": "DlotWJ18jZis"
      },
      "source": [
        "Soma dentro dos grupos/soma de quadrados de dentro/resíduo."
      ]
    },
    {
      "cell_type": "code",
      "metadata": {
        "id": "DFFYyN2ZjYwE",
        "outputId": "aa2fa467-d146-487b-c063-18bbe05d0978",
        "colab": {
          "base_uri": "https://localhost:8080/"
        }
      },
      "source": [
        "somasw_2 <- (((7-1)*2^2)+((7-1)*8^2)+((7-1)*5^2)+((7-1)*5^2))\n",
        "print(somasw_2)"
      ],
      "execution_count": 18,
      "outputs": [
        {
          "output_type": "stream",
          "name": "stdout",
          "text": [
            "[1] 708\n"
          ]
        }
      ]
    },
    {
      "cell_type": "markdown",
      "metadata": {
        "id": "LHaFHiF4jyuZ"
      },
      "source": [
        "Soma de quadrados entre tratamento/amostra."
      ]
    },
    {
      "cell_type": "code",
      "metadata": {
        "id": "b7Q47b_ojz0R",
        "outputId": "87eb5f97-979f-48e6-d90f-951c634bdb24",
        "colab": {
          "base_uri": "https://localhost:8080/"
        }
      },
      "source": [
        "somasb_2 <- (7*(10-media_b2)^2)+(7*(14-media_b2)^2)+(7*(15-media_b2)^2)+(7*(12-media_b2)^2)\n",
        "print(somasb_2)"
      ],
      "execution_count": 19,
      "outputs": [
        {
          "output_type": "stream",
          "name": "stdout",
          "text": [
            "[1] 103.25\n"
          ]
        }
      ]
    },
    {
      "cell_type": "markdown",
      "metadata": {
        "id": "0ApnGuJFj_u3"
      },
      "source": [
        "Soma do quadrado total é igual somasw_2 + somasb_2."
      ]
    },
    {
      "cell_type": "code",
      "metadata": {
        "id": "ZwKl1RdZkBLG",
        "outputId": "106c6590-8659-4405-f129-56699cb55a1e",
        "colab": {
          "base_uri": "https://localhost:8080/"
        }
      },
      "source": [
        "tsomas_2 <- (somasw_2+somasb_2)\n",
        "print(tsomas_2)"
      ],
      "execution_count": 20,
      "outputs": [
        {
          "output_type": "stream",
          "name": "stdout",
          "text": [
            "[1] 811.25\n"
          ]
        }
      ]
    },
    {
      "cell_type": "markdown",
      "metadata": {
        "id": "rg8c8kK3ksnh"
      },
      "source": [
        "k_2 é igual número de grupos/amostras"
      ]
    },
    {
      "cell_type": "code",
      "metadata": {
        "id": "LUT6HkqHktQl"
      },
      "source": [
        "k_2 <- 4"
      ],
      "execution_count": 21,
      "outputs": []
    },
    {
      "cell_type": "markdown",
      "metadata": {
        "id": "QksFPdxek08u"
      },
      "source": [
        "Quadrado médio(msomab_2) entre tratamentos/amostras = somasb_2/(k_2-1), sendo n igual numero de grupo, neste caso k_2 é igual a 4."
      ]
    },
    {
      "cell_type": "code",
      "metadata": {
        "id": "78_sll0plBVG",
        "outputId": "9d6ac11e-bd1d-4d94-811a-9ed3ead67a5c",
        "colab": {
          "base_uri": "https://localhost:8080/"
        }
      },
      "source": [
        "msomab_2 <- somasb_2/(k_2 - 1)\n",
        "print(msomab_2)"
      ],
      "execution_count": 22,
      "outputs": [
        {
          "output_type": "stream",
          "name": "stdout",
          "text": [
            "[1] 34.41667\n"
          ]
        }
      ]
    },
    {
      "cell_type": "markdown",
      "metadata": {
        "id": "oB_YQdxllSXm"
      },
      "source": [
        "Quadrado médio(msomaw_2) dentro de cada tratamento/resíduo/amostra = somasw_2/(n_1-k_2), sendo n igual tamanho da amostra e k igual número de grupos/amostras."
      ]
    },
    {
      "cell_type": "code",
      "metadata": {
        "id": "hFCQUl0Zlc4v",
        "outputId": "06419cc9-0d87-4fc6-c162-19eab8ed004e",
        "colab": {
          "base_uri": "https://localhost:8080/"
        }
      },
      "source": [
        "msomaw_2 <- somasw_2/(28 - 4)\n",
        "print(msomaw_2)"
      ],
      "execution_count": 23,
      "outputs": [
        {
          "output_type": "stream",
          "name": "stdout",
          "text": [
            "[1] 29.5\n"
          ]
        }
      ]
    },
    {
      "cell_type": "markdown",
      "metadata": {
        "id": "WSxm9nqdlse-"
      },
      "source": [
        "Quadrado médio Total igual tsomas_2/(n_2 - 1), sendo n_2 igual tamanho da amostra."
      ]
    },
    {
      "cell_type": "code",
      "metadata": {
        "id": "ZmIk6AhclxwN",
        "outputId": "18d2459c-fd78-4873-8b8e-2fc5ad87a4e8",
        "colab": {
          "base_uri": "https://localhost:8080/"
        }
      },
      "source": [
        "tsomaq_2 <- tsomas_2/(28 - 1)\n",
        "print(tsomaq_2)"
      ],
      "execution_count": 24,
      "outputs": [
        {
          "output_type": "stream",
          "name": "stdout",
          "text": [
            "[1] 30.0463\n"
          ]
        }
      ]
    },
    {
      "cell_type": "markdown",
      "metadata": {
        "id": "gGbMaofql99N"
      },
      "source": [
        "F observado é igual (msomab_2)/(msomaw_2)"
      ]
    },
    {
      "cell_type": "code",
      "metadata": {
        "id": "QyUJVRD-mCQl",
        "outputId": "6de55908-b1a7-4cb7-e781-fd64de055a5b",
        "colab": {
          "base_uri": "https://localhost:8080/"
        }
      },
      "source": [
        "f_observado_2 <- (msomab_2)/(msomaw_2)\n",
        "print(f_observado_2)"
      ],
      "execution_count": 25,
      "outputs": [
        {
          "output_type": "stream",
          "name": "stdout",
          "text": [
            "[1] 1.166667\n"
          ]
        }
      ]
    },
    {
      "cell_type": "markdown",
      "metadata": {
        "id": "nmpg6T7AmP0f"
      },
      "source": [
        "**Tabela 2 - Análise de variância para marcas mais vendidas.**  \n",
        "\n",
        "|Fonte| Soma dos quadrados |Graus de liberdade|Quadrado médio|Estatística F calculado|\n",
        "|---:|:-------------|:-----------|:------|:------|\n",
        "|Entre amostras|103,25|4-1 = 3|34,42|1,16|\n",
        "|Dentro das amostras|708|28-4 = 24|29,5| |\n",
        "|Total|811,25|28-1 = 27| | |"
      ]
    },
    {
      "cell_type": "markdown",
      "metadata": {
        "id": "9PQ24dbpmz-V"
      },
      "source": [
        "### **Análise III**\n",
        "\n",
        "**Do valor F crítico:** O valor de F crítico ou seja do F consultado na tabela F de Fisher para F(0,05;GL do numerador da razão  #do F=3; GL do denominador da razão do F=24) => F(0,05;3;24)=3,01, o valor maior do que da estatística F calculada, 1,16. \n",
        "\n",
        "### **Conclusão III**\n",
        "Em nível de significância de 0,05, não há evidências suficiente para concluirmos que existem pelo menos uma marca com menor custo de compra."
      ]
    },
    {
      "cell_type": "markdown",
      "metadata": {
        "id": "2qXglsTanwLH"
      },
      "source": [
        "### **Análise IV** \n",
        "Pelo cálculo o P-Valor"
      ]
    },
    {
      "cell_type": "code",
      "metadata": {
        "id": "MFQoO0Omnx9E",
        "outputId": "370cf211-a1f2-45b4-a659-1d0a3bc51c42",
        "colab": {
          "base_uri": "https://localhost:8080/"
        }
      },
      "source": [
        "p_valor_2 <- pf((somasb_2/3)/(somasw_2/24), 3, 24, lower.tail=TRUE)\n",
        "print(p_valor_2)"
      ],
      "execution_count": 26,
      "outputs": [
        {
          "output_type": "stream",
          "name": "stdout",
          "text": [
            "[1] 0.6569666\n"
          ]
        }
      ]
    },
    {
      "cell_type": "markdown",
      "metadata": {
        "id": "YK8xTSoqoKA8"
      },
      "source": [
        "O P-Valor do teste é maior do que significância de 5%.\n",
        "\n",
        "### **Conclusão IV**  \n",
        "Em nível de significância de 0,05, não há evidências suficiente para concluirmos que existem pelo menos uma marca com menor custo de compra.\n",
        "\n",
        "## **Conclusão final** \n",
        "Nenhuma das marcas, seriam escolhidas pelo critério de seleção das unidades mais vendidas em um mês.  Igualmente, não se poderia escolher pelo critério de marcas com menores custos de compra, em nível de 5%, pelo teste de análise de variância. Por outro lado, somente pelo critério das unidades mais vendidas em um mês, seria possível escolher as duas marcas mais vendidas, considerando-se o nível de significância de 10%.\n"
      ]
    }
  ]
}